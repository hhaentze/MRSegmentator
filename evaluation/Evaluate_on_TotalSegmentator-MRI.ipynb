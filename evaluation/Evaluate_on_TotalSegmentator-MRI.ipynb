{
 "cells": [
  {
   "cell_type": "markdown",
   "id": "a33c510d-05f1-4ac5-96f1-879b8033708a",
   "metadata": {},
   "source": [
    "# Evaluate on TotalSegmentator MRI Dataset"
   ]
  },
  {
   "cell_type": "markdown",
   "id": "1b161476-e450-41b1-9f36-1cc5ec6e6abe",
   "metadata": {},
   "source": [
    "## 1. Download data\n",
    "\n",
    "```bash\n",
    "# download data (2.4 GB)\n",
    "mkdir TotalSegmentatorMRI; cd TotalSegmentatorMRI\n",
    "wget https://zenodo.org/records/11367005/files/TotalsegmentatorMRI_dataset_v100.zip?download=1 -O TotalSegmentatorMRI.zip\n",
    "\n",
    "unzip TotalSegmentatorMRI.zip\n",
    "```"
   ]
  },
  {
   "cell_type": "markdown",
   "id": "6e40f6b1-e636-42ac-b617-9ad30155e250",
   "metadata": {
    "tags": []
   },
   "source": [
    "## 2. Merge annotations into single file\n",
    "Execute this file in the current directory:\n",
    "\n",
    "```bash\n",
    "python merge_total_mri_annotations.py <path to totalsegmentatot-mri data>\n",
    "```"
   ]
  },
  {
   "cell_type": "markdown",
   "id": "04e48677-225a-4230-a551-7a4100c67593",
   "metadata": {},
   "source": [
    "# 3. Extract and analyze the test set\n",
    "The testset consists of 30 MRI scans.\n",
    "Six of these scans do not have a groundtruth (i.e. hand, breast) or include classes not supported by MRSegmentator (i.e. brain, shoulder, lower limb).\n",
    "\n",
    "Of those we remove image s0129 (brain) from the test set, because it lacks orthonormal definition in the file header, a requirement for MRSegmentator.\n",
    "The other five scans are kept in the evaluation pipe, but, by definiton, will not have any impact on the calculation of the DSC.\n",
    "\n",
    "Of the 24 images that we use to calculate the DSC, 16 are axial, 5 sagittal and 3 coronal.\n",
    "\n",
    "\n",
    "\n",
    "\n",
    "```bash \n",
    "grep test meta.csv  | awk -F ';' '{print $1}' > test_ids.txt\n",
    "mkdir image_links label_links\n",
    "\n",
    "cd image_links\n",
    "for f in $(cat ../test_ids.txt)\n",
    "do \n",
    "    ln -s ../$f/mri.nii.gz $f.nii.gz\n",
    "done\n",
    "unlink s0129.nii.gz\n",
    "\n",
    "cd ../label_links\n",
    "for f in $(cat ../test_ids.txt)\n",
    "do \n",
    "    ln -s ../$f/annotation_merged.nii.gz $f.nii.gz\n",
    "done\n",
    "unlink s0129.nii.gz\n",
    "cd ..\n",
    "```\n"
   ]
  },
  {
   "cell_type": "markdown",
   "id": "c86161c1-e5c6-4375-bb11-ed9d204ddb48",
   "metadata": {
    "tags": []
   },
   "source": [
    "## 4. Run inference\n",
    "\n",
    "```bash\n",
    "mrsegmentator -i image_links --outdir preds\n",
    "```"
   ]
  },
  {
   "cell_type": "markdown",
   "id": "e4d2c47d-cf2f-4a8e-964b-728e8e257f02",
   "metadata": {},
   "source": [
    "## 5. Evaluate"
   ]
  },
  {
   "cell_type": "code",
   "execution_count": 1,
   "id": "80fe25df-3c7d-4e2f-a466-f9c84111f526",
   "metadata": {
    "tags": []
   },
   "outputs": [
    {
     "name": "stdout",
     "output_type": "stream",
     "text": [
      "Mean: 0.74\n"
     ]
    },
    {
     "data": {
      "text/plain": [
       "spleen                         0.89\n",
       "right_kidney                   0.89\n",
       "left_kidney                    0.77\n",
       "gallbladder                    0.84\n",
       "liver                          0.82\n",
       "stomach                        0.85\n",
       "pancreas                       0.44\n",
       "right_adrenal_gland            0.59\n",
       "left_adrenal_gland             0.65\n",
       "left_lung                      0.92\n",
       "right_lung                     0.82\n",
       "heart                          0.81\n",
       "aorta                          0.69\n",
       "inferior_vena_cava             0.65\n",
       "portal_vein_and_splenic_vein   0.62\n",
       "left_iliac_artery              0.66\n",
       "right_iliac_artery             0.63\n",
       "left_iliac_vena                0.76\n",
       "right_iliac_vena               0.74\n",
       "esophagus                      0.62\n",
       "small_bowel                    0.69\n",
       "duodenum                       0.67\n",
       "colon                          0.82\n",
       "urinary_bladder                0.90\n",
       "spine                          0.68\n",
       "sacrum                         0.79\n",
       "left_hip                       0.69\n",
       "right_hip                      0.57\n",
       "left_femur                     0.81\n",
       "right_femur                    0.86\n",
       "left_autochthonous_muscle      0.76\n",
       "right_autochthonous_muscle     0.69\n",
       "left_iliopsoas_muscle          0.53\n",
       "right_iliopsoas_muscle         0.55\n",
       "left_gluteus_maximus           0.82\n",
       "right_gluteus_maximus          0.70\n",
       "left_gluteus_medius            0.88\n",
       "right_gluteus_medius           0.75\n",
       "left_gluteus_minimus           0.84\n",
       "right_gluteus_minimus          0.83\n",
       "dtype: float64"
      ]
     },
     "execution_count": 1,
     "metadata": {},
     "output_type": "execute_result"
    }
   ],
   "source": [
    "import pandas as pd\n",
    "import eval_data\n",
    "import mappings\n",
    "from os.path import join\n",
    "\n",
    "data_path = \"/home/user/totalsegmentator_mri\"\n",
    "\n",
    "eval_data.main(\n",
    "    label_dir=join(data_path, \"label_links\"),\n",
    "    seg_dir=join(data_path, \"preds\"),\n",
    "    dataset_name=\"csvs/TotalSegentator-MRI\",\n",
    "    class_mapping=mappings.total_to_mrseg,\n",
    ")\n",
    "\n",
    "data = pd.read_csv(\"csvs/TotalSegentator-MRI_dsc.csv\").mean()\n",
    "\n",
    "pd.options.display.float_format = \"{:,.2f}\".format\n",
    "print(\"Mean:\", round(data.mean(), 2))\n",
    "data"
   ]
  },
  {
   "cell_type": "markdown",
   "id": "3f741fc7-ed94-4285-a192-3325c2a5d7f9",
   "metadata": {},
   "source": [
    "## 6. What about scans from other body regions?\n",
    "As written above we segmented five scans from other body regions, that didn't have any of MRSegmentor's classes. \n",
    "The segmented results can be seen below.\n",
    "![image](../images/scans_of_other_regions.png)\n",
    "\n",
    "Ideally, all segmentations should be empty. Indeed, this is the case for images s0027 and s0078. \n",
    "However, in the other three scans small halucinations can be detected: In s0150 parts of the Fibia are segmented as Femur. \n",
    "In s0145 tiny pieces of the shoulder are marked as spine. Lastly, in s0109 some voxels are marked as \"heart\" in an obscured view of the thorax. (Actually, the heart should be somewhere around this region, but it can not be seen in this scan. Seems to be an edge case?)\n",
    "\n",
    "To put it short, don't use the model for regions that it wasn't trained for.\n"
   ]
  }
 ],
 "metadata": {
  "kernelspec": {
   "display_name": "Python 3 (ipykernel)",
   "language": "python",
   "name": "python3"
  },
  "language_info": {
   "codemirror_mode": {
    "name": "ipython",
    "version": 3
   },
   "file_extension": ".py",
   "mimetype": "text/x-python",
   "name": "python",
   "nbconvert_exporter": "python",
   "pygments_lexer": "ipython3",
   "version": "3.11.4"
  }
 },
 "nbformat": 4,
 "nbformat_minor": 5
}
