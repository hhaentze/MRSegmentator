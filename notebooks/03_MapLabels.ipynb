{
 "cells": [
  {
   "cell_type": "markdown",
   "id": "839c672b-4d10-4420-8387-85acb80f5ffc",
   "metadata": {},
   "source": [
    "# Create New Label Mapping\n",
    "TotalSegmentator has a total of 117 labels ([metadata.json](../metadata/totalsegmentator_metadata.json)).\n",
    "We need to reduce the total number of labels, because (1) some are not relevant for our project, (2) have poor segmentation accuracy on MR images, (3) we lack resources to annotate all of them.\n",
    "\n",
    "Our label map will consist of\n",
    "- 20 labels of MRSegmentator\n",
    "- heart\n",
    "- urinary bladder\n",
    "- spine (no distiction of individual vertebraes)\n",
    "- sacrum\n",
    "- left & right lung (no distinction between lobes)\n",
    "- left & right iliac venes\n",
    "- left & right iliac arteries\n",
    "- left & right glueteus minimus\n",
    "- left & right glueteus medius\n",
    "- left & right glueteus maximus\n",
    "- left & right femur\n",
    "- left & right hip\n",
    "\n",
    "That is a total of 40 labels plus background."
   ]
  },
  {
   "cell_type": "code",
   "execution_count": 5,
   "id": "01a8d6e7-c806-44f1-b13a-d19d9c181ad0",
   "metadata": {
    "tags": []
   },
   "outputs": [],
   "source": [
    "import json\n",
    "from tabulate import tabulate as tb\n",
    "\n",
    "# private libraries\n",
    "import sys\n",
    "\n",
    "if \"../scripts\" not in sys.path:\n",
    "    sys.path.insert(1, \"../scripts\")\n",
    "import labelmappings as lm"
   ]
  },
  {
   "cell_type": "code",
   "execution_count": 3,
   "id": "db65d7b7-256f-45bd-be75-42a43cd7e4fb",
   "metadata": {
    "tags": []
   },
   "outputs": [],
   "source": [
    "with open(\"../data/totalsegmentator_metadata.json\") as f:\n",
    "    totalseg_labels = json.load(f)[\"network_data_format\"][\"outputs\"][\"pred\"][\"channel_def\"]\n",
    "\n",
    "with open(\"../data/mrsegmentator_metadata.json\") as f:\n",
    "    mrseg_labels = json.load(f)[\"network_data_format\"][\"outputs\"][\"pred\"][\"channel_def\"]"
   ]
  },
  {
   "cell_type": "markdown",
   "id": "c6f1c891-68d1-4082-9241-100753162c4f",
   "metadata": {},
   "source": [
    "## Create Mappings\n",
    "See [labelmappings.py](../scripts/labelmappings.py)"
   ]
  },
  {
   "cell_type": "markdown",
   "id": "84e5095c-dc5c-4313-9dc8-99f1f2741849",
   "metadata": {
    "tags": []
   },
   "source": [
    "## Validate Mappings"
   ]
  },
  {
   "cell_type": "code",
   "execution_count": 5,
   "id": "4b1342b1-095e-4f1a-b288-b7b38d35b2e1",
   "metadata": {
    "tags": []
   },
   "outputs": [
    {
     "name": "stdout",
     "output_type": "stream",
     "text": [
      "  Index  Original                      Mapping\n",
      "-------  ----------------------------  ----------------------------\n",
      "      0  background                    background\n",
      "      1  spleen                        spleen\n",
      "      2  kidney_right                  right_kidney\n",
      "      3  kidney_left                   left_kidney\n",
      "      4  gallbladder                   gallbladder\n",
      "      5  liver                         liver\n",
      "      6  stomach                       stomach\n",
      "      7  pancreas                      pancreas\n",
      "      8  adrenal_gland_right           right_adrenal_gland\n",
      "      9  adrenal_gland_left            left_adrenal_gland\n",
      "     10  lung_upper_lobe_left          left_lung\n",
      "     11  lung_lower_lobe_left          left_lung\n",
      "     12  lung_upper_lobe_right         right_lung\n",
      "     13  lung_middle_lobe_right        right_lung\n",
      "     14  lung_lower_lobe_right         right_lung\n",
      "     15  esophagus                     esophagus\n",
      "     16  trachea                       background\n",
      "     17  thyroid_gland                 background\n",
      "     18  small_bowel                   small_bowel\n",
      "     19  duodenum                      duodenum\n",
      "     20  colon                         colon\n",
      "     21  urinary_bladder               urinary_bladder\n",
      "     22  prostate                      background\n",
      "     23  kidney_cyst_left              background\n",
      "     24  kidney_cyst_right             background\n",
      "     25  sacrum                        sacrum\n",
      "     26  vertebrae_S1                  spine\n",
      "     27  vertebrae_L5                  spine\n",
      "     28  vertebrae_L4                  spine\n",
      "     29  vertebrae_L3                  spine\n",
      "     30  vertebrae_L2                  spine\n",
      "     31  vertebrae_L1                  spine\n",
      "     32  vertebrae_T12                 spine\n",
      "     33  vertebrae_T11                 spine\n",
      "     34  vertebrae_T10                 spine\n",
      "     35  vertebrae_T9                  spine\n",
      "     36  vertebrae_T8                  spine\n",
      "     37  vertebrae_T7                  spine\n",
      "     38  vertebrae_T6                  spine\n",
      "     39  vertebrae_T5                  spine\n",
      "     40  vertebrae_T4                  spine\n",
      "     41  vertebrae_T3                  spine\n",
      "     42  vertebrae_T2                  spine\n",
      "     43  vertebrae_T1                  spine\n",
      "     44  vertebrae_C7                  spine\n",
      "     45  vertebrae_C6                  spine\n",
      "     46  vertebrae_C5                  spine\n",
      "     47  vertebrae_C4                  spine\n",
      "     48  vertebrae_C3                  spine\n",
      "     49  vertebrae_C2                  spine\n",
      "     50  vertebrae_C1                  spine\n",
      "     51  heart                         heart\n",
      "     52  aorta                         aorta\n",
      "     53  pulmonary_vein                background\n",
      "     54  brachiocephalic_trunk         background\n",
      "     55  subclavian_artery_right       background\n",
      "     56  subclavian_artery_left        background\n",
      "     57  common_carotid_artery_right   background\n",
      "     58  common_carotid_artery_left    background\n",
      "     59  brachiocephalic_vein_left     background\n",
      "     60  brachiocephalic_vein_right    background\n",
      "     61  atrial_appendage_left         background\n",
      "     62  superior_vena_cava            background\n",
      "     63  inferior_vena_cava            inferior_vena_cava\n",
      "     64  portal_vein_and_splenic_vein  portal_vein_and_splenic_vein\n",
      "     65  iliac_artery_left             left_iliac_artery\n",
      "     66  iliac_artery_right            right_iliac_artery\n",
      "     67  iliac_vena_left               left_iliac_vena\n",
      "     68  iliac_vena_right              right_iliac_vena\n",
      "     69  humerus_left                  background\n",
      "     70  humerus_right                 background\n",
      "     71  scapula_left                  background\n",
      "     72  scapula_right                 background\n",
      "     73  clavicula_left                background\n",
      "     74  clavicula_right               background\n",
      "     75  femur_left                    left_femur\n",
      "     76  femur_right                   right_femur\n",
      "     77  hip_left                      left_hip\n",
      "     78  hip_right                     right_hip\n",
      "     79  spinal_cord                   background\n",
      "     80  gluteus_maximus_left          left_gluteus_maximus\n",
      "     81  gluteus_maximus_right         right_gluteus_maximus\n",
      "     82  gluteus_medius_left           left_gluteus_medius\n",
      "     83  gluteus_medius_right          right_gluteus_medius\n",
      "     84  gluteus_minimus_left          left_gluteus_minimus\n",
      "     85  gluteus_minimus_right         right_gluteus_minimus\n",
      "     86  autochthon_left               left_autochthonous_muscle\n",
      "     87  autochthon_right              right_autochthonous_muscle\n",
      "     88  iliopsoas_left                left_iliopsoas_muscle\n",
      "     89  iliopsoas_right               right_iliopsoas_muscle\n",
      "     90  brain                         background\n",
      "     91  skull                         background\n",
      "     92  rib_right_4                   background\n",
      "     93  rib_right_3                   background\n",
      "     94  rib_left_1                    background\n",
      "     95  rib_left_2                    background\n",
      "     96  rib_left_3                    background\n",
      "     97  rib_left_4                    background\n",
      "     98  rib_left_5                    background\n",
      "     99  rib_left_6                    background\n",
      "    100  rib_left_7                    background\n",
      "    101  rib_left_8                    background\n",
      "    102  rib_left_9                    background\n",
      "    103  rib_left_10                   background\n",
      "    104  rib_left_11                   background\n",
      "    105  rib_left_12                   background\n",
      "    106  rib_right_1                   background\n",
      "    107  rib_right_2                   background\n",
      "    108  rib_right_5                   background\n",
      "    109  rib_right_6                   background\n",
      "    110  rib_right_7                   background\n",
      "    111  rib_right_8                   background\n",
      "    112  rib_right_9                   background\n",
      "    113  rib_right_10                  background\n",
      "    114  rib_right_11                  background\n",
      "    115  rib_right_12                  background\n",
      "    116  sternum                       background\n",
      "    117  costal_cartilages             background\n"
     ]
    }
   ],
   "source": [
    "table = []\n",
    "for i in range(len(totalseg_labels)):\n",
    "    table += [(i, totalseg_labels[str(i)], lm.new_labels[lm.total2new[i]])]\n",
    "\n",
    "print(tb(table, headers=[\"Index\", \"Original\", \"Mapping\"]))"
   ]
  },
  {
   "cell_type": "code",
   "execution_count": 7,
   "id": "df57cc64-75d5-423b-b4d6-752fcf70221c",
   "metadata": {
    "tags": []
   },
   "outputs": [
    {
     "name": "stdout",
     "output_type": "stream",
     "text": [
      "  Index  Original                      Mapping\n",
      "-------  ----------------------------  ----------------------------\n",
      "      0  background                    background\n",
      "      1  spleen                        spleen\n",
      "      2  right_kidney                  right_kidney\n",
      "      3  left_kidney                   left_kidney\n",
      "      4  gallbladder                   gallbladder\n",
      "      5  liver                         liver\n",
      "      6  stomach                       stomach\n",
      "      7  aorta                         aorta\n",
      "      8  inferior_vena_cava            inferior_vena_cava\n",
      "      9  portal_vein_and_splenic_vein  portal_vein_and_splenic_vein\n",
      "     10  pancreas                      pancreas\n",
      "     11  right_adrenal_gland           right_adrenal_gland\n",
      "     12  left_adrenal_gland            left_adrenal_gland\n",
      "     13  esophagus                     esophagus\n",
      "     14  small_bowel                   small_bowel\n",
      "     15  duodenum                      duodenum\n",
      "     16  colon                         colon\n",
      "     17  left_autochthonous_muscle     left_autochthonous_muscle\n",
      "     18  right_autochthonous_muscle    right_autochthonous_muscle\n",
      "     19  left_iliopsoas_muscle         left_iliopsoas_muscle\n",
      "     20  right_iliopsoas_muscle        right_iliopsoas_muscle\n"
     ]
    }
   ],
   "source": [
    "table = []\n",
    "for i in range(len(mrseg_labels)):\n",
    "    table += [(i, mrseg_labels[str(i)], lm.new_labels[lm.mr2new[i]])]\n",
    "\n",
    "print(tb(table, headers=[\"Index\", \"Original\", \"Mapping\"]))"
   ]
  },
  {
   "cell_type": "markdown",
   "id": "b7bda2f0-6351-485b-9cda-8e32166be607",
   "metadata": {},
   "source": [
    "## Save Mappings & Metadata"
   ]
  },
  {
   "cell_type": "code",
   "execution_count": 104,
   "id": "a9c5fa53-e049-403e-bf1b-cf9683b0b771",
   "metadata": {
    "tags": []
   },
   "outputs": [],
   "source": [
    "with open(\"../data/mrsegmentator_metadata.json\") as f:\n",
    "    metadata = json.load(f)\n",
    "\n",
    "metadata[\"network_data_format\"][\"outputs\"][\"pred\"][\"channel_def\"] = lm.new_labels\n",
    "\n",
    "with open(\"../data/updated_metadata.json\", \"w\", encoding=\"utf-8\") as f:\n",
    "    json.dump(metadata, f, ensure_ascii=False, indent=4)"
   ]
  },
  {
   "cell_type": "code",
   "execution_count": 105,
   "id": "5f4521e6-866d-42c1-82d3-ef2a65aa02fb",
   "metadata": {
    "tags": []
   },
   "outputs": [],
   "source": [
    "with open(\"../data/mr2new.json\", \"w\", encoding=\"utf-8\") as f:\n",
    "    json.dump(lm.mr2new, f, ensure_ascii=False, indent=4)\n",
    "with open(\"../data/total2new.json\", \"w\", encoding=\"utf-8\") as f:\n",
    "    json.dump(lm.total2new, f, ensure_ascii=False, indent=4)"
   ]
  }
 ],
 "metadata": {
  "kernelspec": {
   "display_name": "Python 3 (ipykernel)",
   "language": "python",
   "name": "python3"
  },
  "language_info": {
   "codemirror_mode": {
    "name": "ipython",
    "version": 3
   },
   "file_extension": ".py",
   "mimetype": "text/x-python",
   "name": "python",
   "nbconvert_exporter": "python",
   "pygments_lexer": "ipython3",
   "version": "3.11.4"
  }
 },
 "nbformat": 4,
 "nbformat_minor": 5
}
