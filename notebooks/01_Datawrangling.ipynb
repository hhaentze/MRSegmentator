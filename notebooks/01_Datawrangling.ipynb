{
 "cells": [
  {
   "cell_type": "markdown",
   "id": "056fdc9a-f6d7-490c-9aff-08b818676c9e",
   "metadata": {},
   "source": [
    "# Datawrangling UK Biobank Data"
   ]
  },
  {
   "cell_type": "markdown",
   "id": "43fbf38f-92af-4a66-9e81-3347492ffdfc",
   "metadata": {},
   "source": [
    "I dowloaded Dixon weighted scans of 1000 subjects from the UK Biobank data base. For this I used the command line tools by UKBB: https://biobank.ndph.ox.ac.uk/ukb/download.cgi\n",
    "\n",
    "```bash\n",
    "# Decrypt UKBB dataset (only contains identifier of subjects) -> creates file 'dataset.enc_ukb'\n",
    "ukbunpack <dataset.enc> <keyfile.key>\n",
    "\n",
    "# Create bulk file. 20201-2 specifies dixon scans on a patients 'first' examination. Some patients came for follow up examinations that I dont pland to include.\n",
    "# (Remark: spelling of '20201-2' might be slightly wrong)\n",
    "ukbconv dataset.enc_ukb bulk -s20201-2\n",
    "\n",
    "# Download 10000 dicoms based on bulk file\n",
    "ukbfetch -a\"$activation_code\" -b<ukb675228.20201_2_0.bulk> -m1000\n",
    "```"
   ]
  },
  {
   "cell_type": "code",
   "execution_count": 1,
   "id": "c8687335-b0b0-4bd2-8c80-d10b9d5549ea",
   "metadata": {},
   "outputs": [
    {
     "name": "stderr",
     "output_type": "stream",
     "text": [
      "Using `tqdm.autonotebook.tqdm` in notebook mode. Use `tqdm.tqdm` instead to force console mode (e.g. in jupyter console)\n"
     ]
    }
   ],
   "source": [
    "import pandas as pd\n",
    "import SimpleITK as sitk\n",
    "from tqdm.notebook import tqdm\n",
    "from os.path import join, exists\n",
    "from os import scandir, mkdir\n",
    "\n",
    "# private libraries\n",
    "import sys\n",
    "\n",
    "if \"../scripts\" not in sys.path:\n",
    "    sys.path.insert(1, \"../scripts\")\n",
    "import config\n",
    "from dicom_io import read_dicom_series_zipped"
   ]
  },
  {
   "cell_type": "code",
   "execution_count": 2,
   "id": "2ed55508-b76d-49a2-9209-b0b1c3a2c6e2",
   "metadata": {
    "tags": []
   },
   "outputs": [],
   "source": [
    "zip_list = [f for f in scandir(join(config.ukbb, \"dicom\")) if f.name[-4:] == \".zip\"]\n",
    "dixon_types = [\"in\", \"opp\", \"W\", \"F\"]"
   ]
  },
  {
   "cell_type": "markdown",
   "id": "7154c95a-fe72-43fb-af78-2e7236e3248c",
   "metadata": {
    "tags": []
   },
   "source": [
    "The data is currently present as indivudial zip files and structured like this:\n",
    "```\n",
    ".\n",
    "└── dicom [1000 entries]\n",
    "    ├──<eid>_20201_2_0.zip \n",
    "    ├──<eid>_20201_2_0.zip \n",
    "    ...\n",
    "    └──<eid>_20201_2_0.zip \n",
    "\n",
    "```\n",
    "The end goal should be a new directory `nifti`, where each exam is represented by four dixon sequences for six body sections each:\n",
    "\n",
    "```\n",
    ".\n",
    "└── nifti [1000 entries]\n",
    "    ├──<eid> [24 entries]\n",
    "    │   ├──section0_in.nii.gz\n",
    "    │   ├──section0_opp.nii.gz\n",
    "    │   ...\n",
    "    │   └──section5_F.nii.gz\n",
    "    ...\n",
    "    └──<eid> [24 entries]\n",
    "        ├──section0_in.nii.gz\n",
    "        ├──section0_opp.nii.gz\n",
    "        ...\n",
    "        └──section5_F.nii.gz\n",
    "```\n",
    "\n",
    "The dataframe/csv should look like this:\n",
    "\n",
    "\n",
    "| eid        | section | dixon_type | image                               |\n",
    "|------------|---------|------------|-------------------------------------|\n",
    "| eid_000001 |    0    |     in     | nifti/eid_000001/sectio0_in.nii.gz  | \n",
    "| eid_000001 |    0    |     opp    | nifti/eid_000001/sectio0_opp.nii.gz |\n",
    "| eid_00000n |    5    |     F      | nifti/eid_00000n/sectio5_F.nii.gz   |\n"
   ]
  },
  {
   "cell_type": "markdown",
   "id": "989261b3-1bc2-412c-a1e4-71deb7825856",
   "metadata": {},
   "source": [
    "## Dicom to Nifti\n",
    "Create nifti images for 6 sections of the human body,  4 sequence types each. Meta information (i.e. id, section, dixon type, path) will be saved in a separate file \"manifest.csv\""
   ]
  },
  {
   "cell_type": "code",
   "execution_count": null,
   "id": "1ded28fe-445f-49bf-a5ed-2dbba6d5fe63",
   "metadata": {
    "tags": []
   },
   "outputs": [],
   "source": [
    "data = pd.DataFrame(columns=[\"eid\", \"datafile\", \"section\", \"dixon_type\", \"image\"])\n",
    "\n",
    "for file in tqdm(zip_list, postfix=\"Reading multiple patients\", leave=False, position=0):\n",
    "    eid = file.name.split(\"_\")[0]\n",
    "    datafile = file.name[len(eid) + 1 : -4]\n",
    "    if not exists(join(config.ukbb, \"nifti\", eid)):\n",
    "        mkdir(join(config.ukbb, \"nifti\", eid))\n",
    "\n",
    "    images, series_desc = read_dicom_series_zipped(file, pbar_position=1)\n",
    "    image_meta = pd.DataFrame({\"series_desc\": series_desc})\n",
    "    image_meta[\"dixon_type\"] = image_meta[\"series_desc\"].apply(lambda x: x.split(\"_\")[-1])\n",
    "\n",
    "    for i, row in tqdm(\n",
    "        image_meta.iterrows(),\n",
    "        total=len(image_meta),\n",
    "        postfix=\"Saving as nifti\",\n",
    "        leave=False,\n",
    "        position=1,\n",
    "    ):\n",
    "        entry = {\n",
    "            \"eid\": eid,\n",
    "            \"datafile\": datafile,\n",
    "            \"section\": i\n",
    "            // 4,  # divide by 4, because we have 4 different sequence types for each section\n",
    "            \"dixon_type\": row[\"dixon_type\"],\n",
    "            \"image\": join(eid, \"section\" + str(i // 4) + \"_\" + row[\"dixon_type\"] + \".nii.gz\"),\n",
    "        }\n",
    "        data.loc[len(data)] = entry\n",
    "        sitk.WriteImage(images[i], join(config.ukbb, \"nifti\", entry[\"image\"]), True, 1)\n",
    "\n",
    "data.to_csv(join(config.ukbb, \"manifest.csv\"), index=False)"
   ]
  }
 ],
 "metadata": {
  "kernelspec": {
   "display_name": "Python 3 (ipykernel)",
   "language": "python",
   "name": "python3"
  },
  "language_info": {
   "codemirror_mode": {
    "name": "ipython",
    "version": 3
   },
   "file_extension": ".py",
   "mimetype": "text/x-python",
   "name": "python",
   "nbconvert_exporter": "python",
   "pygments_lexer": "ipython3",
   "version": "3.11.4"
  }
 },
 "nbformat": 4,
 "nbformat_minor": 5
}
