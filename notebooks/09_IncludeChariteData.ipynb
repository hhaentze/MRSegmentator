{
 "cells": [
  {
   "cell_type": "markdown",
   "id": "5cba2623-3ade-4587-8e91-caa5d73a0bb7",
   "metadata": {},
   "source": [
    "# Include Charité Data for Finetuning\n",
    "The Charité dataset consists of multiple abdominal T1, T2 and T1fs weighted MIR scans.\n",
    "20 classes (subset `A`) are manually annotated.\n",
    "\n",
    "The method `map_merge_charite` in [map_merge.py](../scripts/map_merge.py) adds automatic segmentntions of the remaining 20 classes (subset `B`) to the annotations.\n",
    "I expect that using those new labels for finetuning will not affect segmentation quality of subset `B`, but will increase segmentation quality concerning subset `A`.\n",
    "\n",
    "This notebook creates a combined csv file for annotations of both UKKB and Charité data."
   ]
  },
  {
   "cell_type": "code",
   "execution_count": 5,
   "id": "5ca7a910-18fa-409a-8d53-1780a319c56f",
   "metadata": {
    "tags": []
   },
   "outputs": [],
   "source": [
    "import pandas as pd\n",
    "\n",
    "# private libraries\n",
    "import sys\n",
    "\n",
    "if \"../scripts\" not in sys.path:\n",
    "    sys.path.insert(1, \"../scripts\")\n",
    "import config"
   ]
  },
  {
   "cell_type": "markdown",
   "id": "eb2a362b-81d2-41a6-b77e-0e5791c023b9",
   "metadata": {},
   "source": [
    "## Load Charité Annotations"
   ]
  },
  {
   "cell_type": "code",
   "execution_count": 11,
   "id": "77a44c9f-3961-4ad0-85ae-e07a5289c8e1",
   "metadata": {
    "tags": []
   },
   "outputs": [
    {
     "name": "stdout",
     "output_type": "stream",
     "text": [
      "Loaded data for 221 annotations, 4 additional ones have been excluded.\n",
      "T1:\t 90 sequences\n",
      "T1fs:\t 67 sequences\n",
      "T2:\t 64 sequences\n"
     ]
    }
   ],
   "source": [
    "# load annotation documentation\n",
    "data = pd.read_csv(config.mr_label_path + \"annotations.csv\")\n",
    "\n",
    "# Rename columns\n",
    "data = data.rename({\"FinalPath\": \"label\"}, axis=1)\n",
    "\n",
    "# remove annotations that are severly incomplete\n",
    "_2BeRemoved = data.loc[data[\"Remove\"]].index\n",
    "data = data.drop(_2BeRemoved).reset_index(drop=True)\n",
    "\n",
    "print(\n",
    "    f\"Loaded data for {len(data)} annotations, {len(_2BeRemoved)} additional ones have been excluded.\"\n",
    ")\n",
    "for seq in data[\"Seq\"].unique():\n",
    "    print(f\"{seq[:4]}:\\t {sum(data['Seq'] == seq)} sequences\")\n",
    "\n",
    "# Save as csv\n",
    "data[\"image\"] = \"MR/\" + data[\"ID\"].apply(lambda x: str(x)) + \"/\" + data[\"Seq\"] + \"/image.nii\"\n",
    "data[\"pred\"] = data[\"label\"].apply(lambda x: x.split(\"/\")[1])\n",
    "charite_data = data[[\"Seq\", \"label\", \"image\", \"pred\"]].rename({\"Seq\": \"seq\"}, axis=1)\n",
    "charite_data.to_csv(config.ukbb + \"csv/charite_annotations.csv\", index=False)"
   ]
  },
  {
   "cell_type": "markdown",
   "id": "5292e3e6-2afe-4456-bc81-5a84c65c0b39",
   "metadata": {},
   "source": [
    "## Combine Charité Annotations with UKBB Annotations"
   ]
  },
  {
   "cell_type": "code",
   "execution_count": null,
   "id": "0a49a4a6-3867-4923-8467-8a1b5185c592",
   "metadata": {
    "tags": []
   },
   "outputs": [],
   "source": [
    "# load annotation documentation (except of small test set 'test_finetuninf.csv')\n",
    "ukbb_data = pd.read_csv(config.ukbb + \"train_finetuning.csv\")[\n",
    "    [\"dixon_type\", \"label\", \"image\"]\n",
    "].rename({\"dixon_type\": \"seq\"}, axis=1)\n",
    "ukbb_data[\"label\"] = config.ukbb + \"annotations/\" + ukbb_data[\"label\"]\n",
    "ukbb_data[\"image\"] = config.ukbb + \"nifti/\" + ukbb_data[\"image\"]\n",
    "\n",
    "charite_data[\"label\"] = (\n",
    "    config.ukbb + \"preds_charite_combined/\" + charite_data[\"label\"].apply(lambda x: x.split(\"/\")[1])\n",
    ")\n",
    "charite_data[\"image\"] = config.mr_path + charite_data[\"image\"]\n",
    "charite_data.iloc[0][\"label\"]\n",
    "\n",
    "# Combine charite and ukbb annotations\n",
    "combined_data = pd.concat(\n",
    "    [\n",
    "        ukbb_data,\n",
    "        charite_data,\n",
    "    ]\n",
    ").reset_index(drop=True)\n",
    "combined_data.sample(frac=1, random_state=13).to_csv(\n",
    "    config.ukbb + \"csv/charite_ukbb_combined.csv\", index=False\n",
    ")"
   ]
  }
 ],
 "metadata": {
  "kernelspec": {
   "display_name": "Python 3 (ipykernel)",
   "language": "python",
   "name": "python3"
  },
  "language_info": {
   "codemirror_mode": {
    "name": "ipython",
    "version": 3
   },
   "file_extension": ".py",
   "mimetype": "text/x-python",
   "name": "python",
   "nbconvert_exporter": "python",
   "pygments_lexer": "ipython3",
   "version": "3.11.4"
  }
 },
 "nbformat": 4,
 "nbformat_minor": 5
}
