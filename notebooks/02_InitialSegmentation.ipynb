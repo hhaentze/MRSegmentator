{
 "cells": [
  {
   "cell_type": "markdown",
   "id": "3ca551ad-7090-49f4-b95f-2aded7260770",
   "metadata": {},
   "source": [
    "# Create Initial Segmentations with TotalSegmentator v2 and MRSegmentator\n",
    "The four dixon sequences of each section should share almost identical voxel positions within one examination. Therfore it should be sufficient to segment one sequence and directly map the results to the other three. I choose water only sequences for this task, as both models seem to perform best on them.\n",
    "I only create mappings for section 1, 2 and 3, where most abdomibnal and chest organs/structures are located. Section 0, 4, 5 will be ignored.\n",
    "\n",
    "I focus on 40 labels plus background:\n",
    "- 20 labels of MRSegmentator\n",
    "- heart\n",
    "- urinary bladder\n",
    "- spine (no distiction of individual vertebraes)\n",
    "- sacrum\n",
    "- left & right lung (no distinction between lobes)\n",
    "- left & right iliac venes\n",
    "- left & right iliac arteries\n",
    "- left & right glueteus minimus\n",
    "- left & right glueteus medius\n",
    "- left & right glueteus maximus\n",
    "- left & right femur\n",
    "- left & right hip\n",
    "\n",
    "Remark on space utilazation:  Segmentation masks need much less space than images (about 1GB for all segementations of one model). We don't need to be too concerned with saving resources."
   ]
  },
  {
   "cell_type": "markdown",
   "id": "9152d7bc-8d3e-454d-bd2d-aea3962c44ae",
   "metadata": {
    "tags": []
   },
   "source": [
    "### Use TotalSegmentator v2 to predict masks (executed in an sbatch file)\n",
    "\n",
    "```bash\n",
    "conda activate totalsegmentator\n",
    "\n",
    "for file in $(ls nifti/*/*[1-3]_W.nii.gz)\n",
    "do\n",
    "    IFS=\"/\" read -ra NAMES <<< \"$file\"\n",
    "    TotalSegmentator -i $file -o \"preds_total/${NAMES[1]}_${NAMES[2]}\" --ml\n",
    "done \n",
    "```"
   ]
  },
  {
   "cell_type": "markdown",
   "id": "126b8e60-3c9b-484c-92f8-faaac77ae68e",
   "metadata": {
    "tags": []
   },
   "source": [
    "### Use MRSegmentator to predict masks\n",
    "\n",
    "```bash\n",
    "# filter for necessary files\n",
    "nifti=$PATH1\n",
    "scratch=$PATH2\n",
    "[ -d $scratch ] && rm -r $scratch\n",
    "mkdir $scratch\n",
    "for file in $(ls $nifti/*/*[1-3]_W.nii.gz)\n",
    "do\n",
    "    IFS=\"/\" read -ra NAMES <<< \"$file\"\n",
    "    ln -s $file \"$scratch\"/\"${NAMES[-2]}\"_\"${NAMES[-1]}\"\n",
    "done \n",
    "\n",
    "\n",
    "# activate conda environment\n",
    "source /opt/conda/etc/profile.d/conda.sh\n",
    "conda activate monai\n",
    "cd $HOME/kidney/bundles/mr_segmentator\n",
    "\n",
    "\n",
    "# start segmentation\n",
    "python -m monai.bundle run inference \\\n",
    "  --meta_file configs/metadata.json \\\n",
    "  --config_file configs/inference.yaml \\\n",
    "  --logging_file configs/logging.conf \\\n",
    "  --dataset_dir $scratch\n",
    "  \n",
    "\n",
    "# clean\n",
    "rm -r $scratch\n",
    "```"
   ]
  }
 ],
 "metadata": {
  "kernelspec": {
   "display_name": "Python 3 (ipykernel)",
   "language": "python",
   "name": "python3"
  },
  "language_info": {
   "codemirror_mode": {
    "name": "ipython",
    "version": 3
   },
   "file_extension": ".py",
   "mimetype": "text/x-python",
   "name": "python",
   "nbconvert_exporter": "python",
   "pygments_lexer": "ipython3",
   "version": "3.11.4"
  }
 },
 "nbformat": 4,
 "nbformat_minor": 5
}
