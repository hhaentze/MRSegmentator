{
 "cells": [
  {
   "cell_type": "markdown",
   "id": "54df2058-4399-474e-a846-d272af530484",
   "metadata": {},
   "source": [
    "# Merge Labels\n",
    "TotalSegmentator v2 performs well on segmentation of most labels. However, MRSegmentator yields better results for Gallbladder, Autochtonal and Iliopsoas muscles (See [Notebook 4](04_EvaluateBaseline.ipynb)).\n",
    "To achieve the best possible segmentations I use TotalSegmentator and replace these five labels by the segmentations of MRSegmentator.\n",
    "\n",
    "I will procede as following:\n",
    "1. Use Autochtonal and Iliopsoas Muscle segmentations of MRSegmentator\n",
    "2. Add remaining labels of TotalSegmentator\n",
    "3. Apply KeepLargestConnectedComponent to Autochtonal and Iliopsoas muscles*\n",
    "\n",
    "*If segementations overlap, those of TotalSegmentator have priority over MRSegmentator. In some cases this might result in a splitted segementation (e.g. one left iliopsoas muscle segmentation gets split into two segmentations). In those cases I will only keep the larger segmentation. \n",
    "\n",
    "This script is only for ilustartion, the full source code is in [map_merge.py](../scripts/map_merge.py)."
   ]
  },
  {
   "cell_type": "code",
   "execution_count": 2,
   "id": "822f7ca3-e8cb-4373-a38e-9fde28c1fdb3",
   "metadata": {
    "tags": []
   },
   "outputs": [],
   "source": [
    "from monai.transforms import (\n",
    "    SaveImage,\n",
    "    KeepLargestConnectedComponent,\n",
    "    MapLabelValue,\n",
    ")\n",
    "from tqdm.notebook import tqdm\n",
    "\n",
    "# private libraries\n",
    "import sys\n",
    "\n",
    "if \"../scripts\" not in sys.path:\n",
    "    sys.path.insert(1, \"../scripts\")\n",
    "import labelmappings as lm"
   ]
  },
  {
   "cell_type": "code",
   "execution_count": null,
   "id": "f9a5fc7d-8542-4768-8c14-f1b3288c0337",
   "metadata": {},
   "outputs": [],
   "source": [
    "deleteMusclesGall = MapLabelValue(\n",
    "    orig_labels=[4, 31, 32, 33, 34],\n",
    "    target_labels=[0, 0, 0, 0, 0],\n",
    "    dtype=int,\n",
    ")\n",
    "deleteAllButMusclesGall = MapLabelValue(\n",
    "    orig_labels=list(range(4)) + list(range(5, 31)) + list(range(35, 41)),\n",
    "    target_labels=[0] * 36,\n",
    "    dtype=int,\n",
    ")\n",
    "\n",
    "keepLargestMusclesGall = KeepLargestConnectedComponent(applied_labels=[4, 31, 32, 33, 34])\n",
    "\n",
    "save = SaveImage(\n",
    "    output_dir=\"update_path\",\n",
    "    separate_folder=False,\n",
    "    output_postfix=\"new\",\n",
    ")"
   ]
  },
  {
   "cell_type": "code",
   "execution_count": null,
   "id": "59feed8b-7bef-4174-8433-68f75f137867",
   "metadata": {},
   "outputs": [],
   "source": [
    "def merge_label(totalseg_label, mrseg_label):\n",
    "    # clean labels\n",
    "    totalseg_label = deleteMusclesGall(totalseg_label)\n",
    "    mrseg_label = deleteAllButMusclesGall(mrseg_label)\n",
    "\n",
    "    # merge labels\n",
    "    new_label = mrseg_label.detach().clone()\n",
    "    new_label[totalseg_label != 0] = totalseg_label[totalseg_label != 0]\n",
    "\n",
    "    # remove artifacts that were created during merging\n",
    "    new_label = keepLargestMusclesGall(new_label)\n",
    "    return new_label"
   ]
  },
  {
   "cell_type": "code",
   "execution_count": 3,
   "id": "0077dbc3-d681-4f9d-9599-f84a2f2e944c",
   "metadata": {
    "tags": []
   },
   "outputs": [
    {
     "data": {
      "application/vnd.jupyter.widget-view+json": {
       "model_id": "afa92a4d741746229281c0a364acd837",
       "version_major": 2,
       "version_minor": 0
      },
      "text/plain": [
       "0it [00:00, ?it/s]"
      ]
     },
     "metadata": {},
     "output_type": "display_data"
    }
   ],
   "source": [
    "mr_labels = []  # List of segmentations by MrSegmentator\n",
    "total_labels = []  # List of segmentations by TotalSegmentator\n",
    "for i in tqdm(range(len(mr_labels))):\n",
    "    # Load labels and map to new metadata specification\n",
    "    label_mr = lm.transform_mr(mr_labels[i])\n",
    "    label_total = lm.transform_total(total_labels[i])\n",
    "\n",
    "    # merge labels\n",
    "    new_label = merge_label(label_total, label_mr)\n",
    "\n",
    "    # save label\n",
    "    save(new_label)"
   ]
  }
 ],
 "metadata": {
  "kernelspec": {
   "display_name": "Python 3 (ipykernel)",
   "language": "python",
   "name": "python3"
  },
  "language_info": {
   "codemirror_mode": {
    "name": "ipython",
    "version": 3
   },
   "file_extension": ".py",
   "mimetype": "text/x-python",
   "name": "python",
   "nbconvert_exporter": "python",
   "pygments_lexer": "ipython3",
   "version": "3.11.4"
  }
 },
 "nbformat": 4,
 "nbformat_minor": 5
}
