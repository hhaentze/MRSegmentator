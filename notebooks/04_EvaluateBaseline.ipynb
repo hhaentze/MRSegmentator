{
 "cells": [
  {
   "cell_type": "markdown",
   "id": "8a4a59f7-a4cc-44db-a682-c6386298e774",
   "metadata": {},
   "source": [
    "# Evaluate Combined Segmentations of TotalSegmentator and MRSegmentator\n",
    "TotalSegmentator was trained on the TotalSegmentator Dataset (CT-scans).\n",
    "MRSegementator was trained on the Charité Dataset (MRI-scans).\n",
    "\n",
    "This notebook tries to answer the following questions:\n",
    "1. Which baseline performance can we expect of using TotalSegmentator & MRSegmentator on MRI?\n",
    "2. Can we combine both models and use the predictions for self-supervised learning?\n",
    "3. Can we utilize an active learning startegy to improve self-supverised learning process / annotation efficiency?\n",
    "\n",
    "I will evaluate the baseline methods on a view already annotaded dixon scans of UKBB.\n",
    "As an evaluation metrics I use the dice coefficient"
   ]
  },
  {
   "cell_type": "code",
   "execution_count": 123,
   "id": "3879a692-2992-4a3a-8fe6-2a1a325440ac",
   "metadata": {
    "tags": []
   },
   "outputs": [],
   "source": [
    "import os\n",
    "from tqdm.notebook import tqdm\n",
    "from monai.transforms import (\n",
    "    LoadImage,\n",
    "    EnsureChannelFirst,\n",
    "    Spacing,\n",
    "    Lambda,\n",
    ")\n",
    "from monai.transforms import (\n",
    "    LoadImaged,\n",
    "    EnsureChannelFirstd,\n",
    "    MapLabelValued,\n",
    "    Lambdad,\n",
    "    Compose,\n",
    "    AsDiscreted,\n",
    "    Spacingd,\n",
    ")\n",
    "from monai.metrics import DiceMetric\n",
    "import pandas as pd\n",
    "from scipy.stats import spearmanr\n",
    "import json\n",
    "import matplotlib.pyplot as plt\n",
    "\n",
    "# private libraries\n",
    "import sys\n",
    "\n",
    "if \"../scripts\" not in sys.path:\n",
    "    sys.path.insert(1, \"../scripts\")\n",
    "import config\n",
    "import labelmappings as lm"
   ]
  },
  {
   "cell_type": "code",
   "execution_count": 28,
   "id": "8489c876-a405-44b9-b3ba-e33714eb74de",
   "metadata": {
    "tags": []
   },
   "outputs": [],
   "source": [
    "transforms = lambda labelmapper: Compose(\n",
    "    [\n",
    "        LoadImaged(keys=[\"pred\", \"label\"], image_only=True),\n",
    "        EnsureChannelFirstd(keys=[\"pred\", \"label\"]),\n",
    "        Spacingd(\n",
    "            keys=[\"pred\", \"label\"],\n",
    "            pixdim=[3, 3, 3],\n",
    "            mode=\"nearest\",\n",
    "        ),\n",
    "        MapLabelValued(\n",
    "            keys=[\"pred\"],\n",
    "            orig_labels=labelmapper.keys(),\n",
    "            target_labels=labelmapper.values(),\n",
    "            dtype=int,\n",
    "        ),\n",
    "        AsDiscreted(keys=[\"pred\", \"label\"], to_onehot=41),\n",
    "        Lambdad(keys=[\"pred\", \"label\"], func=lambda x: x.unsqueeze(0)),\n",
    "    ]\n",
    ")"
   ]
  },
  {
   "cell_type": "markdown",
   "id": "0bbff403-0625-404c-a24f-8edec1f4109a",
   "metadata": {},
   "source": [
    "## Calculate Dice Scores"
   ]
  },
  {
   "cell_type": "code",
   "execution_count": 80,
   "id": "65ee4322-cfec-43ac-a908-a5b04072aa9f",
   "metadata": {
    "tags": []
   },
   "outputs": [],
   "source": [
    "# List of annotated and segmented scans\n",
    "annotated_files = [\n",
    "    f.name for f in os.scandir(config.ukbb + \"annotations\") if f.name[-7:] == \".nii.gz\"\n",
    "]\n",
    "annotated_files.sort()\n",
    "data = pd.DataFrame()\n",
    "data[\"label\"] = annotated_files\n",
    "data[\"section\"] = data[\"label\"].apply(lambda x: int(x.split(\"_\")[1][-1]))\n",
    "\n",
    "\n",
    "def add_type(df, _type):\n",
    "    df[\"dixon_type\"] = _type\n",
    "    return df.copy()\n",
    "\n",
    "\n",
    "data = pd.concat(\n",
    "    [\n",
    "        add_type(data, \"W\"),\n",
    "        add_type(data, \"F\"),\n",
    "        add_type(data, \"in\"),\n",
    "        add_type(data, \"opp\"),\n",
    "    ]\n",
    ").reset_index(drop=True)\n",
    "\n",
    "data[\"pred\"] = data.apply(lambda row: row[\"label\"].replace(\"W\", row[\"dixon_type\"]), axis=1)"
   ]
  },
  {
   "cell_type": "code",
   "execution_count": 83,
   "id": "3ae3daf5-a847-40ae-af9e-f4cd851dfba0",
   "metadata": {
    "tags": []
   },
   "outputs": [],
   "source": [
    "data_list_total = [\n",
    "    {\n",
    "        \"pred\": config.ukbb + \"preds_total/\" + row[\"pred\"],\n",
    "        \"label\": config.ukbb + \"annotations/\" + row[\"label\"],\n",
    "    }\n",
    "    for _, row in data.iterrows()\n",
    "]\n",
    "\n",
    "data_list_mr = [\n",
    "    {\n",
    "        \"pred\": config.ukbb + \"preds_mr2/\" + row[\"pred\"],\n",
    "        \"label\": config.ukbb + \"annotations/\" + row[\"label\"],\n",
    "    }\n",
    "    for _, row in data.iterrows()\n",
    "]"
   ]
  },
  {
   "cell_type": "code",
   "execution_count": 84,
   "id": "1d5b0f09-b878-4b8f-a015-f5d2329b691c",
   "metadata": {
    "tags": []
   },
   "outputs": [
    {
     "data": {
      "application/vnd.jupyter.widget-view+json": {
       "model_id": "7bc7ec3fa66741709aa9bc5b00037edd",
       "version_major": 2,
       "version_minor": 0
      },
      "text/plain": [
       "  0%|          | 0/372 [00:00<?, ?it/s]"
      ]
     },
     "metadata": {},
     "output_type": "display_data"
    }
   ],
   "source": [
    "# Calculate dice\n",
    "with open(\"../metadata/updated_metadata.json\") as f:\n",
    "    metadata = json.load(f)\n",
    "channels = list(metadata[\"network_data_format\"][\"outputs\"][\"pred\"][\"channel_def\"].values())[1:]\n",
    "dice_metric = DiceMetric(include_background=False, reduction=\"none\", num_classes=41)\n",
    "\n",
    "\n",
    "def add_meta(df):\n",
    "    df[\"section\"] = data[\"section\"]\n",
    "    df[\"dixon_type\"] = data[\"dixon_type\"]\n",
    "    return df\n",
    "\n",
    "\n",
    "# TotalSegmentator\n",
    "dice_metric.reset()\n",
    "for item in tqdm(data_list_total):\n",
    "    _item = transforms(lm.total2new)(item)\n",
    "    dice_metric(_item[\"pred\"], _item[\"label\"])\n",
    "scores_total = pd.DataFrame(dice_metric.get_buffer(), columns=channels)\n",
    "scores_total = add_meta(scores_total)\n",
    "scores_total[\"mean\"] = list(scores_total.mean(axis=1))\n",
    "\n",
    "# MRSegmentator\n",
    "dice_metric.reset()\n",
    "for item in tqdm(data_list_mr):\n",
    "    _item = transforms(lm.mr2new)(item)\n",
    "    dice_metric(_item[\"pred\"], _item[\"label\"])\n",
    "scores_mr = pd.DataFrame(dice_metric.get_buffer(), columns=channels)\n",
    "scores_mr = add_meta(scores_mr)\n",
    "scores_mr[\"mean\"] = list(scores_mr.mean(axis=1))"
   ]
  },
  {
   "cell_type": "markdown",
   "id": "9bdfd8b5-ba24-4274-a424-af98e458b1f1",
   "metadata": {},
   "source": [
    "## Compare Dice of different sequence types:\n",
    "- Only compare dice of classes that are covered by both models\n",
    "- MRSegmentator was mostly trained on data similar to section 2, its unlikely to work on other sections"
   ]
  },
  {
   "cell_type": "code",
   "execution_count": 110,
   "id": "0aa65e8f-deff-4427-a64c-179a3aa343dd",
   "metadata": {
    "tags": []
   },
   "outputs": [
    {
     "name": "stdout",
     "output_type": "stream",
     "text": [
      "Sequence \t TotalSeg \t MRSeq\n",
      "W \t\t 0.772 \t\t 0.649\n",
      "F \t\t 0.046 \t\t 0.468\n",
      "in \t\t 0.082 \t\t 0.531\n",
      "opp \t\t 0.365 \t\t 0.532\n"
     ]
    }
   ],
   "source": [
    "shared_classes = [channels[i - 1] for i in list(lm.mr2new.values())[1:]]\n",
    "\n",
    "print(\"Sequence \\t TotalSeg \\t MRSeq\")\n",
    "for seq in [\"W\", \"F\", \"in\", \"opp\"]:\n",
    "    mean_total = (\n",
    "        scores_total.loc[(data[\"section\"] == 2) & (data[\"dixon_type\"] == seq)][shared_classes]\n",
    "        .mean()\n",
    "        .mean()\n",
    "    )\n",
    "    mean_mr = (\n",
    "        scores_mr.loc[(data[\"section\"] == 2) & (data[\"dixon_type\"] == seq)][shared_classes]\n",
    "        .mean()\n",
    "        .mean()\n",
    "    )\n",
    "\n",
    "    print(f\"{seq} \\t\\t {mean_total:.3f} \\t\\t {mean_mr:.3f}\")"
   ]
  },
  {
   "cell_type": "markdown",
   "id": "8cb294d3-49df-4069-8866-55f0f63c3528",
   "metadata": {},
   "source": [
    "##### ==> Both models perform best on water only sequences. Consequently, I will focus on only this type of dixon sequences in the following work."
   ]
  },
  {
   "cell_type": "markdown",
   "id": "d0323cba-8f92-49ee-ac02-3dd37aca3ebc",
   "metadata": {},
   "source": [
    "## Compare dice of models"
   ]
  },
  {
   "cell_type": "code",
   "execution_count": 115,
   "id": "540ef4a0-b48f-48fe-baf0-afd5ebd17023",
   "metadata": {
    "tags": []
   },
   "outputs": [
    {
     "data": {
      "text/html": [
       "<div>\n",
       "<style scoped>\n",
       "    .dataframe tbody tr th:only-of-type {\n",
       "        vertical-align: middle;\n",
       "    }\n",
       "\n",
       "    .dataframe tbody tr th {\n",
       "        vertical-align: top;\n",
       "    }\n",
       "\n",
       "    .dataframe thead th {\n",
       "        text-align: right;\n",
       "    }\n",
       "</style>\n",
       "<table border=\"1\" class=\"dataframe\">\n",
       "  <thead>\n",
       "    <tr style=\"text-align: right;\">\n",
       "      <th></th>\n",
       "      <th>MRSeg</th>\n",
       "      <th>TotalSeg</th>\n",
       "    </tr>\n",
       "  </thead>\n",
       "  <tbody>\n",
       "    <tr>\n",
       "      <th>spleen</th>\n",
       "      <td>0.825775</td>\n",
       "      <td>0.987942</td>\n",
       "    </tr>\n",
       "    <tr>\n",
       "      <th>right_kidney</th>\n",
       "      <td>0.710431</td>\n",
       "      <td>0.961463</td>\n",
       "    </tr>\n",
       "    <tr>\n",
       "      <th>left_kidney</th>\n",
       "      <td>0.734384</td>\n",
       "      <td>0.980585</td>\n",
       "    </tr>\n",
       "    <tr>\n",
       "      <th>gallbladder</th>\n",
       "      <td>0.550029</td>\n",
       "      <td>0.159216</td>\n",
       "    </tr>\n",
       "    <tr>\n",
       "      <th>liver</th>\n",
       "      <td>0.798552</td>\n",
       "      <td>0.984348</td>\n",
       "    </tr>\n",
       "    <tr>\n",
       "      <th>stomach</th>\n",
       "      <td>0.611308</td>\n",
       "      <td>0.861766</td>\n",
       "    </tr>\n",
       "    <tr>\n",
       "      <th>pancreas</th>\n",
       "      <td>0.612155</td>\n",
       "      <td>0.893635</td>\n",
       "    </tr>\n",
       "    <tr>\n",
       "      <th>right_adrenal_gland</th>\n",
       "      <td>0.464298</td>\n",
       "      <td>0.739766</td>\n",
       "    </tr>\n",
       "    <tr>\n",
       "      <th>left_adrenal_gland</th>\n",
       "      <td>0.519871</td>\n",
       "      <td>0.706952</td>\n",
       "    </tr>\n",
       "    <tr>\n",
       "      <th>left_lung</th>\n",
       "      <td>0.000000</td>\n",
       "      <td>0.830875</td>\n",
       "    </tr>\n",
       "    <tr>\n",
       "      <th>right_lung</th>\n",
       "      <td>0.000000</td>\n",
       "      <td>0.822139</td>\n",
       "    </tr>\n",
       "    <tr>\n",
       "      <th>heart</th>\n",
       "      <td>0.000000</td>\n",
       "      <td>0.991013</td>\n",
       "    </tr>\n",
       "    <tr>\n",
       "      <th>aorta</th>\n",
       "      <td>0.787917</td>\n",
       "      <td>0.979376</td>\n",
       "    </tr>\n",
       "    <tr>\n",
       "      <th>inferior_vena_cava</th>\n",
       "      <td>0.640151</td>\n",
       "      <td>0.942517</td>\n",
       "    </tr>\n",
       "    <tr>\n",
       "      <th>portal_vein_and_splenic_vein</th>\n",
       "      <td>0.364519</td>\n",
       "      <td>0.731061</td>\n",
       "    </tr>\n",
       "    <tr>\n",
       "      <th>left_iliac_artery</th>\n",
       "      <td>0.000000</td>\n",
       "      <td>0.858682</td>\n",
       "    </tr>\n",
       "    <tr>\n",
       "      <th>right_iliac_artery</th>\n",
       "      <td>0.000000</td>\n",
       "      <td>0.845068</td>\n",
       "    </tr>\n",
       "    <tr>\n",
       "      <th>left_iliac_vena</th>\n",
       "      <td>0.000000</td>\n",
       "      <td>0.877240</td>\n",
       "    </tr>\n",
       "    <tr>\n",
       "      <th>right_iliac_vena</th>\n",
       "      <td>0.000000</td>\n",
       "      <td>0.881725</td>\n",
       "    </tr>\n",
       "    <tr>\n",
       "      <th>esophagus</th>\n",
       "      <td>0.550182</td>\n",
       "      <td>0.906034</td>\n",
       "    </tr>\n",
       "    <tr>\n",
       "      <th>small_bowel</th>\n",
       "      <td>0.493005</td>\n",
       "      <td>0.924174</td>\n",
       "    </tr>\n",
       "    <tr>\n",
       "      <th>duodenum</th>\n",
       "      <td>0.481774</td>\n",
       "      <td>0.923973</td>\n",
       "    </tr>\n",
       "    <tr>\n",
       "      <th>colon</th>\n",
       "      <td>0.405102</td>\n",
       "      <td>0.788117</td>\n",
       "    </tr>\n",
       "    <tr>\n",
       "      <th>urinary_bladder</th>\n",
       "      <td>0.000000</td>\n",
       "      <td>0.825112</td>\n",
       "    </tr>\n",
       "    <tr>\n",
       "      <th>spine</th>\n",
       "      <td>0.000000</td>\n",
       "      <td>0.484220</td>\n",
       "    </tr>\n",
       "    <tr>\n",
       "      <th>sacrum</th>\n",
       "      <td>0.000000</td>\n",
       "      <td>0.092787</td>\n",
       "    </tr>\n",
       "    <tr>\n",
       "      <th>left_hip</th>\n",
       "      <td>0.000000</td>\n",
       "      <td>0.016275</td>\n",
       "    </tr>\n",
       "    <tr>\n",
       "      <th>right_hip</th>\n",
       "      <td>0.000000</td>\n",
       "      <td>0.036950</td>\n",
       "    </tr>\n",
       "    <tr>\n",
       "      <th>left_femur</th>\n",
       "      <td>0.000000</td>\n",
       "      <td>0.367013</td>\n",
       "    </tr>\n",
       "    <tr>\n",
       "      <th>right_femur</th>\n",
       "      <td>0.000000</td>\n",
       "      <td>0.424036</td>\n",
       "    </tr>\n",
       "    <tr>\n",
       "      <th>left_autochthonous_muscle</th>\n",
       "      <td>0.943868</td>\n",
       "      <td>0.368767</td>\n",
       "    </tr>\n",
       "    <tr>\n",
       "      <th>right_autochthonous_muscle</th>\n",
       "      <td>0.939480</td>\n",
       "      <td>0.241606</td>\n",
       "    </tr>\n",
       "    <tr>\n",
       "      <th>left_iliopsoas_muscle</th>\n",
       "      <td>0.665277</td>\n",
       "      <td>0.089609</td>\n",
       "    </tr>\n",
       "    <tr>\n",
       "      <th>right_iliopsoas_muscle</th>\n",
       "      <td>0.654443</td>\n",
       "      <td>0.365661</td>\n",
       "    </tr>\n",
       "    <tr>\n",
       "      <th>left_gluteus_maximus</th>\n",
       "      <td>0.000000</td>\n",
       "      <td>0.621625</td>\n",
       "    </tr>\n",
       "    <tr>\n",
       "      <th>right_gluteus_maximus</th>\n",
       "      <td>0.000000</td>\n",
       "      <td>0.477336</td>\n",
       "    </tr>\n",
       "    <tr>\n",
       "      <th>left_gluteus_medius</th>\n",
       "      <td>0.000000</td>\n",
       "      <td>0.315871</td>\n",
       "    </tr>\n",
       "    <tr>\n",
       "      <th>right_gluteus_medius</th>\n",
       "      <td>0.000000</td>\n",
       "      <td>0.350439</td>\n",
       "    </tr>\n",
       "    <tr>\n",
       "      <th>left_gluteus_minimus</th>\n",
       "      <td>0.000000</td>\n",
       "      <td>0.071922</td>\n",
       "    </tr>\n",
       "    <tr>\n",
       "      <th>right_gluteus_minimus</th>\n",
       "      <td>0.000000</td>\n",
       "      <td>0.170132</td>\n",
       "    </tr>\n",
       "    <tr>\n",
       "      <th>mean</th>\n",
       "      <td>0.340080</td>\n",
       "      <td>0.617142</td>\n",
       "    </tr>\n",
       "  </tbody>\n",
       "</table>\n",
       "</div>"
      ],
      "text/plain": [
       "                                 MRSeg  TotalSeg\n",
       "spleen                        0.825775  0.987942\n",
       "right_kidney                  0.710431  0.961463\n",
       "left_kidney                   0.734384  0.980585\n",
       "gallbladder                   0.550029  0.159216\n",
       "liver                         0.798552  0.984348\n",
       "stomach                       0.611308  0.861766\n",
       "pancreas                      0.612155  0.893635\n",
       "right_adrenal_gland           0.464298  0.739766\n",
       "left_adrenal_gland            0.519871  0.706952\n",
       "left_lung                     0.000000  0.830875\n",
       "right_lung                    0.000000  0.822139\n",
       "heart                         0.000000  0.991013\n",
       "aorta                         0.787917  0.979376\n",
       "inferior_vena_cava            0.640151  0.942517\n",
       "portal_vein_and_splenic_vein  0.364519  0.731061\n",
       "left_iliac_artery             0.000000  0.858682\n",
       "right_iliac_artery            0.000000  0.845068\n",
       "left_iliac_vena               0.000000  0.877240\n",
       "right_iliac_vena              0.000000  0.881725\n",
       "esophagus                     0.550182  0.906034\n",
       "small_bowel                   0.493005  0.924174\n",
       "duodenum                      0.481774  0.923973\n",
       "colon                         0.405102  0.788117\n",
       "urinary_bladder               0.000000  0.825112\n",
       "spine                         0.000000  0.484220\n",
       "sacrum                        0.000000  0.092787\n",
       "left_hip                      0.000000  0.016275\n",
       "right_hip                     0.000000  0.036950\n",
       "left_femur                    0.000000  0.367013\n",
       "right_femur                   0.000000  0.424036\n",
       "left_autochthonous_muscle     0.943868  0.368767\n",
       "right_autochthonous_muscle    0.939480  0.241606\n",
       "left_iliopsoas_muscle         0.665277  0.089609\n",
       "right_iliopsoas_muscle        0.654443  0.365661\n",
       "left_gluteus_maximus          0.000000  0.621625\n",
       "right_gluteus_maximus         0.000000  0.477336\n",
       "left_gluteus_medius           0.000000  0.315871\n",
       "right_gluteus_medius          0.000000  0.350439\n",
       "left_gluteus_minimus          0.000000  0.071922\n",
       "right_gluteus_minimus         0.000000  0.170132\n",
       "mean                          0.340080  0.617142"
      ]
     },
     "execution_count": 115,
     "metadata": {},
     "output_type": "execute_result"
    }
   ],
   "source": [
    "scores_all = pd.DataFrame(index=channels + [\"mean\"])\n",
    "scores_all[\"MRSeg\"] = scores_mr.loc[data[\"dixon_type\"] == \"W\"].mean(numeric_only=True)\n",
    "scores_all[\"TotalSeg\"] = scores_total.loc[data[\"dixon_type\"] == \"W\"].mean(numeric_only=True)\n",
    "scores_all"
   ]
  },
  {
   "cell_type": "code",
   "execution_count": 116,
   "id": "02e171aa-1cac-448f-abf3-31e985b51914",
   "metadata": {
    "tags": []
   },
   "outputs": [
    {
     "data": {
      "image/png": "[encoded data removed]",
      "text/plain": [
       "<Figure size 720x240 with 1 Axes>"
      ]
     },
     "metadata": {},
     "output_type": "display_data"
    }
   ],
   "source": [
    "scores_all[\"Combined\"] = scores_all.max(axis=1)\n",
    "plt.figure(figsize=(9, 3), dpi=80)\n",
    "counts, edges, bars = plt.hist(list(scores_all[\"Combined\"]))\n",
    "plt.bar_label(bars)\n",
    "plt.xlim(1.0, 0)\n",
    "plt.xlabel(\"Dice Score\")\n",
    "plt.ylabel(\"#Structures\")\n",
    "plt.title(\"Distribution of Combined Dice Scores\")\n",
    "plt.bar_label(bars)\n",
    "plt.show()"
   ]
  },
  {
   "cell_type": "markdown",
   "id": "58bc187c-8515-4f30-9e43-78a020d036a6",
   "metadata": {},
   "source": [
    "## Is there a correlation between segmentation volume and Dice coefficient?\n",
    "Section one to three have different base volumes, therefore I test correlation for all sections separetly. To reduce the effect of outliers I use spearmans correlation factor."
   ]
  },
  {
   "cell_type": "code",
   "execution_count": 132,
   "id": "c94a6164-e1c9-4324-9c7f-3c970532fec4",
   "metadata": {
    "tags": []
   },
   "outputs": [],
   "source": [
    "# Meassure Volume\n",
    "calc_volume = Compose(\n",
    "    [\n",
    "        LoadImage(image_only=True),\n",
    "        EnsureChannelFirst(),\n",
    "        Spacing(pixdim=[3, 3, 3]),\n",
    "        Lambda(func=lambda x: (x != 0).sum().item()),\n",
    "    ]\n",
    ")\n",
    "\n",
    "volume_sec1 = [\n",
    "    calc_volume(config.ukbb + \"preds_combined/\" + file)\n",
    "    for file in data.loc[(data[\"section\"] == 1) & (data[\"dixon_type\"] == \"W\")][\"pred\"]\n",
    "]\n",
    "volume_sec2 = [\n",
    "    calc_volume(config.ukbb + \"preds_combined/\" + file)\n",
    "    for file in data.loc[(data[\"section\"] == 2) & (data[\"dixon_type\"] == \"W\")][\"pred\"]\n",
    "]\n",
    "volume_sec3 = [\n",
    "    calc_volume(config.ukbb + \"preds_combined/\" + file)\n",
    "    for file in data.loc[(data[\"section\"] == 3) & (data[\"dixon_type\"] == \"W\")][\"pred\"]\n",
    "]"
   ]
  },
  {
   "cell_type": "code",
   "execution_count": 140,
   "id": "6484bd41-97ba-4e22-8ecb-8c59df3c4dd0",
   "metadata": {
    "tags": []
   },
   "outputs": [
    {
     "name": "stdout",
     "output_type": "stream",
     "text": [
      "SignificanceResult(statistic=0.517741935483871, pvalue=0.0028534156721904207)\n",
      "SignificanceResult(statistic=0.7169354838709678, pvalue=5.693436391383669e-06)\n",
      "SignificanceResult(statistic=0.1866935483870968, pvalue=0.31459517166493095)\n"
     ]
    }
   ],
   "source": [
    "# Test correlation\n",
    "print(\n",
    "    spearmanr(\n",
    "        volume_sec1, scores_total.loc[(data[\"section\"] == 1) & (data[\"dixon_type\"] == \"W\")][\"mean\"]\n",
    "    )\n",
    ")\n",
    "print(\n",
    "    spearmanr(\n",
    "        volume_sec2, scores_total.loc[(data[\"section\"] == 2) & (data[\"dixon_type\"] == \"W\")][\"mean\"]\n",
    "    )\n",
    ")\n",
    "print(\n",
    "    spearmanr(\n",
    "        volume_sec3, scores_total.loc[(data[\"section\"] == 3) & (data[\"dixon_type\"] == \"W\")][\"mean\"]\n",
    "    )\n",
    ")"
   ]
  },
  {
   "cell_type": "code",
   "execution_count": 161,
   "id": "5f119b13-aa7f-4e66-b2e3-9a4a0ce4682f",
   "metadata": {
    "tags": []
   },
   "outputs": [
    {
     "data": {
      "image/png": "[encoded data removed]",
      "text/plain": [
       "<Figure size 1500x500 with 3 Axes>"
      ]
     },
     "metadata": {},
     "output_type": "display_data"
    }
   ],
   "source": [
    "plt.subplot(1, 3, 1)\n",
    "plt.scatter(\n",
    "    volume_sec1, scores_total.loc[(data[\"section\"] == 1) & (data[\"dixon_type\"] == \"W\")][\"mean\"]\n",
    ")\n",
    "plt.xlabel(\"Segmentation Volume\")\n",
    "plt.ylabel(\"Dice Score\")\n",
    "plt.title(\"Section 1\")\n",
    "\n",
    "plt.subplot(1, 3, 2)\n",
    "plt.scatter(\n",
    "    volume_sec2, scores_total.loc[(data[\"section\"] == 2) & (data[\"dixon_type\"] == \"W\")][\"mean\"]\n",
    ")\n",
    "plt.xlabel(\"Segmentation Volume\")\n",
    "plt.ylabel(\"Dice Score\")\n",
    "plt.title(\"Section 2\")\n",
    "\n",
    "plt.subplot(1, 3, 3)\n",
    "plt.scatter(\n",
    "    volume_sec3, scores_total.loc[(data[\"section\"] == 3) & (data[\"dixon_type\"] == \"W\")][\"mean\"]\n",
    ")\n",
    "plt.xlabel(\"Segmentation Volume\")\n",
    "plt.ylabel(\"Dice Score\")\n",
    "plt.title(\"Section 3\")\n",
    "\n",
    "plt.gcf().set_size_inches((15, 5))\n",
    "plt.show()"
   ]
  },
  {
   "cell_type": "markdown",
   "id": "011a8e0e-41cf-42f0-87fb-fd7e12af81bb",
   "metadata": {
    "tags": []
   },
   "source": [
    "##### ==> There is strong correlation between segmentation volume and dice coefficient, espacially for sections 1 and 2.\n",
    "I suspect this is because TotalSegmentator's specificity is higher than its sensitivity. It more often overlooks targets instead of misclassifying them.\n",
    "It might increase the success of a self-supervised learning strategy if we exclude data with scans with low segmetnation volume, as they are more likely to be incorrect."
   ]
  }
 ],
 "metadata": {
  "kernelspec": {
   "display_name": "Python 3 (ipykernel)",
   "language": "python",
   "name": "python3"
  },
  "language_info": {
   "codemirror_mode": {
    "name": "ipython",
    "version": 3
   },
   "file_extension": ".py",
   "mimetype": "text/x-python",
   "name": "python",
   "nbconvert_exporter": "python",
   "pygments_lexer": "ipython3",
   "version": "3.11.4"
  }
 },
 "nbformat": 4,
 "nbformat_minor": 5
}
